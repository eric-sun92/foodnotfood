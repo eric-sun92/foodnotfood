{
 "cells": [
  {
   "cell_type": "code",
   "execution_count": 2,
   "metadata": {},
   "outputs": [
    {
     "data": {
      "text/plain": [
       "(['2447885727_96899c311a.jpg',\n",
       "  '48657227_d5d4c61133.jpg',\n",
       "  '2402613133_c05422ec22.jpg',\n",
       "  '370434157_4d09ecb8a5.jpg',\n",
       "  '3413070496_f160d59aaa.jpg'],\n",
       " ['well', 'gift shop', 'gavel', 'attorney general', 'polecat'],\n",
       " 49314,\n",
       " 989)"
      ]
     },
     "execution_count": 2,
     "metadata": {},
     "output_type": "execute_result"
    }
   ],
   "source": [
    "import os\n",
    "from shutil import copy2\n",
    "import random\n",
    "\n",
    "image_files = []\n",
    "image_dirs = os.listdir(\"data/images/\")\n",
    "for root, dirs, files in os.walk(\"data/images/\"):\n",
    "    for img in files:\n",
    "        image_files.append(img)\n",
    "image_files[:5], image_dirs[:5], len(image_files), len(image_dirs)"
   ]
  },
  {
   "cell_type": "code",
   "execution_count": 6,
   "metadata": {},
   "outputs": [
    {
     "name": "stdout",
     "output_type": "stream",
     "text": [
      "Lengths of train: 40, test: 10\n"
     ]
    }
   ],
   "source": [
    "def create_train_test_list(target_dir):\n",
    "    random.seed(42)\n",
    "    image_list = [os.path.join(target_dir, img_path) for img_path in os.listdir(target_dir)]\n",
    "    train_length = int(len(image_list) * 0.8)\n",
    "    train_list = random.sample(image_list, train_length)\n",
    "    test_list = list(set(image_list).difference(set(train_list)))\n",
    "    return train_list, test_list\n",
    "\n",
    "airship_dir = \"data/model_test_images/airship/\"\n",
    "train_image_list, test_image_list = create_train_test_list(airship_dir)\n",
    "print(f\"Lengths of train: {len(train_image_list)}, test: {len(test_image_list)}\")\n"
   ]
  },
  {
   "cell_type": "code",
   "execution_count": 5,
   "metadata": {},
   "outputs": [],
   "source": [
    "def copy_images_to_file(img_path_list, target_dir, train=True):\n",
    "        \n",
    "        # make target dir\n",
    "        if train:\n",
    "            split_dir = \"train\"\n",
    "        else:\n",
    "            split_dir =\"test\"\n",
    "            \n",
    "        # copy images\n",
    "        for init_dir in img_path_list:\n",
    "            stem = os.path.split(init_dir)[-1]\n",
    "            image_class = os.path.split(init_dir)[-2]\n",
    "            image_class = os.path.split(image_class)[-1]\n",
    "            dest_dir = os.path.join(target_dir, split_dir, image_class, stem)\n",
    "            os.makedirs(os.path.join(target_dir, split_dir, image_class), exist_ok=True)\n",
    "            copy2(init_dir, dest_dir)"
   ]
  },
  {
   "cell_type": "code",
   "execution_count": null,
   "metadata": {},
   "outputs": [],
   "source": [
    "# MOVING IMAGES\n",
    "\n",
    "data_dir = \"data/model_test_images/\"\n",
    "target_dir = \"data/model_test_images_split/\"\n",
    "\n",
    "# for each file in test_images, mv it into train/test in split dir\n",
    "\n",
    "for image_dir in os.listdir(data_dir):\n",
    "    \n",
    "    train_image_list, test_image_list = create_train_test_list(os.path.join(data_dir, image_dir))\n",
    "    \n",
    "    # copying training images\n",
    "    copy_images_to_file(img_path_list=train_image_list, target_dir=target_dir, train=True)\n",
    "        \n",
    "    # copying testing images\n",
    "    copy_images_to_file(img_path_list=test_image_list, target_dir=target_dir, train=False)\n",
    "    \n"
   ]
  },
  {
   "cell_type": "code",
   "execution_count": null,
   "metadata": {},
   "outputs": [],
   "source": []
  }
 ],
 "metadata": {
  "kernelspec": {
   "display_name": "Python 3",
   "language": "python",
   "name": "python3"
  },
  "language_info": {
   "codemirror_mode": {
    "name": "ipython",
    "version": 3
   },
   "file_extension": ".py",
   "mimetype": "text/x-python",
   "name": "python",
   "nbconvert_exporter": "python",
   "pygments_lexer": "ipython3",
   "version": "3.11.3"
  },
  "orig_nbformat": 4
 },
 "nbformat": 4,
 "nbformat_minor": 2
}
